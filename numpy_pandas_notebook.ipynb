{
 "cells": [
  {
   "cell_type": "markdown",
   "metadata": {},
   "source": [
    "# Numpy and pandas \n",
    "## 学习笔记"
   ]
  },
  {
   "cell_type": "code",
   "execution_count": 10,
   "metadata": {},
   "outputs": [],
   "source": [
    "#%% [Numpy and Pandas]\n",
    "import numpy as np \n",
    "import pandas as pd "
   ]
  },
  {
   "cell_type": "code",
   "execution_count": 11,
   "metadata": {},
   "outputs": [
    {
     "name": "stdout",
     "output_type": "stream",
     "text": [
      "[[1 2 3]\n",
      " [1 2 3]]\n",
      "number of dim:2\n",
      "shape of a:(2, 3)\n",
      "size of a:6\n"
     ]
    }
   ],
   "source": [
    "a = np.array([[1,2,3],\n",
    "              [1,2,3]])\n",
    "print(a)\n",
    "print('number of dim:{}'.format(a.ndim))\n",
    "print('shape of a:{}'.format(a.shape))\n",
    "print('size of a:{}'.format(a.size))"
   ]
  },
  {
   "cell_type": "markdown",
   "metadata": {},
   "source": [
    "### 创建\n",
    "用列表创建\n",
    "定义其中的数字格式 dtype = `np.int/float`"
   ]
  },
  {
   "cell_type": "code",
   "execution_count": 12,
   "metadata": {},
   "outputs": [
    {
     "name": "stdout",
     "output_type": "stream",
     "text": [
      "float64\n"
     ]
    }
   ],
   "source": [
    "a = np.array([2,12,2],dtype=np.float)\n",
    "print(a.dtype)"
   ]
  },
  {
   "cell_type": "code",
   "execution_count": 13,
   "metadata": {},
   "outputs": [
    {
     "name": "stdout",
     "output_type": "stream",
     "text": [
      "[[1 2 3]\n",
      " [3 4 5]]\n"
     ]
    }
   ],
   "source": [
    "#定义矩阵\n",
    "matrix = np.array([[1,2,3],[3,4,5]])\n",
    "print(matrix)"
   ]
  },
  {
   "cell_type": "code",
   "execution_count": 14,
   "metadata": {},
   "outputs": [
    {
     "name": "stdout",
     "output_type": "stream",
     "text": [
      "[[0. 0. 0. 0.]\n",
      " [0. 0. 0. 0.]\n",
      " [0. 0. 0. 0.]]\n"
     ]
    }
   ],
   "source": [
    "#零矩阵\n",
    "a = np.zeros((3,4))\n",
    "print(a)"
   ]
  },
  {
   "cell_type": "code",
   "execution_count": 15,
   "metadata": {},
   "outputs": [
    {
     "name": "stdout",
     "output_type": "stream",
     "text": [
      "[[1 1 1 1]\n",
      " [1 1 1 1]\n",
      " [1 1 1 1]]\n"
     ]
    }
   ],
   "source": [
    "# 1 矩阵\n",
    "a = np.ones((3,4),dtype=np.int16)\n",
    "print(a)"
   ]
  },
  {
   "cell_type": "code",
   "execution_count": 16,
   "metadata": {},
   "outputs": [
    {
     "name": "stdout",
     "output_type": "stream",
     "text": [
      "30\n",
      "[[ 12  17  22  27  32  37]\n",
      " [ 42  47  52  57  62  67]\n",
      " [ 72  77  82  87  92  97]\n",
      " [102 107 112 117 122 127]\n",
      " [132 137 142 147 152 157]]\n"
     ]
    }
   ],
   "source": [
    "#%%  arange and reshape\n",
    "a = np.arange(12,160,5).reshape((5,6))\n",
    "print(a.size)\n",
    "print(a)"
   ]
  },
  {
   "cell_type": "code",
   "execution_count": 17,
   "metadata": {},
   "outputs": [
    {
     "name": "stdout",
     "output_type": "stream",
     "text": [
      "[[ 0  1  2  3]\n",
      " [ 4  5  6  7]\n",
      " [ 8  9 10 11]]\n",
      "[[ 1.  4.]\n",
      " [ 7. 10.]]\n"
     ]
    }
   ],
   "source": [
    "#%%\n",
    "a = np.arange(12).reshape((3,4))\n",
    "print(a)\n",
    "\n",
    "#%% \n",
    "a = np.linspace(1,10,4).reshape((2,2))\n",
    "print(a)"
   ]
  },
  {
   "cell_type": "markdown",
   "metadata": {},
   "source": [
    "### 基础运算"
   ]
  },
  {
   "cell_type": "code",
   "execution_count": null,
   "metadata": {},
   "outputs": [],
   "source": [
    "a =  np.arange(4)\n",
    "b = np.array([10,20,30,40])\n",
    "print('b-a={}'.format(b-a))\n",
    "\n",
    "c = a**2\n",
    "print(c)\n",
    "\n",
    "np.sum(c)\n",
    "a<=3\n",
    "#%% 矩阵乘法 np.dot(a,b)  各自相乘 *\n",
    "print('a .* b = {}'.format(a*b))\n",
    "print('a * b = {}'.format(np.dot(a,b)))\n",
    "\n",
    "\n",
    "#%% 随机创建\n",
    "a = np.random.random((2,4))\n",
    "print(a)\n",
    "a.max()\n",
    "a.min()\n",
    "a.sum(axis =0)"
   ]
  },
  {
   "cell_type": "markdown",
   "metadata": {},
   "source": [
    " ### 索引"
   ]
  },
  {
   "cell_type": "code",
   "execution_count": 19,
   "metadata": {},
   "outputs": [
    {
     "name": "stdout",
     "output_type": "stream",
     "text": [
      "[[ 0  1  2  3]\n",
      " [ 4  5  6  7]\n",
      " [ 8  9 10 11]]\n",
      "0\n",
      "11\n",
      "5.5\n",
      "5.5\n",
      "5.5\n",
      "[[ 0  4  8]\n",
      " [ 1  5  9]\n",
      " [ 2  6 10]\n",
      " [ 3  7 11]]\n",
      "[[4 4 4 4]\n",
      " [4 5 6 7]\n",
      " [8 8 8 8]]\n"
     ]
    }
   ],
   "source": [
    "a = np.arange(12).reshape((3,4))\n",
    "print(a)\n",
    "print(a.argmin())\n",
    "print(a.argmax())\n",
    "print(a.mean())\n",
    "print(np.average(a))\n",
    "print(np.median(a))\n",
    "#print(a.median())\n",
    "print(a.T)\n",
    "print(np.clip(a,4,8))"
   ]
  },
  {
   "cell_type": "markdown",
   "metadata": {},
   "source": [
    "### 索引"
   ]
  },
  {
   "cell_type": "code",
   "execution_count": 20,
   "metadata": {},
   "outputs": [
    {
     "name": "stdout",
     "output_type": "stream",
     "text": [
      "[[ 0  1  2  3]\n",
      " [ 4  5  6  7]\n",
      " [ 8  9 10 11]]\n",
      "a[2] = [ 8  9 10 11]\n",
      "a[2,0]=8\n",
      "a[2][0] = 8\n",
      "a[2,:] = [ 8  9 10 11]\n",
      "[0 4 8]\n",
      "[1 5 9]\n",
      "[ 2  6 10]\n",
      "[ 3  7 11]\n",
      "<numpy.flatiter object at 0x7fa9718bda00>\n",
      "[ 0  1  2  3  4  5  6  7  8  9 10 11]\n",
      "0\n",
      "1\n",
      "2\n",
      "3\n",
      "4\n",
      "5\n",
      "6\n",
      "7\n",
      "8\n",
      "9\n",
      "10\n",
      "11\n"
     ]
    }
   ],
   "source": [
    "print(a)\n",
    "\n",
    "print('a[2] = {}'.format(a[2]))\n",
    "print('a[2,0]={}'.format(a[2,0]))\n",
    "print('a[2][0] = {}'.format(a[2][0]))\n",
    "print('a[2,:] = {}'.format(a[2,:]))\n",
    "for column in a.T:\n",
    "    print(column)\n",
    "\n",
    "#%%\n",
    "print(a.flat)\n",
    "print(a.flatten())\n",
    "for i in a.flat:\n",
    "    print(i)"
   ]
  },
  {
   "cell_type": "markdown",
   "metadata": {},
   "source": [
    "### array 的合并 "
   ]
  },
  {
   "cell_type": "code",
   "execution_count": 22,
   "metadata": {},
   "outputs": [
    {
     "name": "stdout",
     "output_type": "stream",
     "text": [
      "[1 1 1]\n",
      "a and b_lower = [[1 1 1]\n",
      " [2 2 2]]\n",
      "a and b_right = [1 1 1 2 2 2]\n"
     ]
    }
   ],
   "source": [
    "a = np.array([1,1,1])\n",
    "print(a)\n",
    "b = np.array([2,2,2])\n",
    "print('a and b_lower = {}'.format(np.vstack((a,b))))\n",
    "print('a and b_right = {}'.format(np.hstack((a,b))))"
   ]
  },
  {
   "cell_type": "code",
   "execution_count": 23,
   "metadata": {},
   "outputs": [
    {
     "name": "stdout",
     "output_type": "stream",
     "text": [
      "[1 1 1]\n",
      "[[1 1 1]]\n",
      "[[1]\n",
      " [1]\n",
      " [1]]\n"
     ]
    }
   ],
   "source": [
    "#%% 增加一个维度\n",
    "print(a.T)\n",
    "c = a[np.newaxis,:]\n",
    "d = b[np.newaxis,:]\n",
    "print(a[np.newaxis,:])\n",
    "print(a[:,np.newaxis])"
   ]
  },
  {
   "cell_type": "code",
   "execution_count": 24,
   "metadata": {},
   "outputs": [
    {
     "name": "stdout",
     "output_type": "stream",
     "text": [
      "[[1 1 1]\n",
      " [2 2 2]\n",
      " [1 1 1]\n",
      " [2 2 2]]\n",
      "fenge k = [array([[1, 1, 1],\n",
      "       [2, 2, 2]]), array([[1, 1, 1],\n",
      "       [2, 2, 2]])]\n",
      "budengfenge = [array([[1, 1],\n",
      "       [2, 2],\n",
      "       [1, 1],\n",
      "       [2, 2]]), array([[1],\n",
      "       [2],\n",
      "       [1],\n",
      "       [2]])]\n"
     ]
    }
   ],
   "source": [
    "#%% 多个array 的合并\n",
    "k = np.concatenate((c,d,c,d),axis=0)\n",
    "print(k)\n",
    "\n",
    "print('fenge k = {}'.format(np.split(k,2,axis=0)))\n",
    "# not equal division\n",
    "print('budengfenge = {}'.format(np.array_split(k,2,axis=1)))"
   ]
  },
  {
   "cell_type": "code",
   "execution_count": 25,
   "metadata": {},
   "outputs": [
    {
     "name": "stdout",
     "output_type": "stream",
     "text": [
      "[ 1 11  3]\n",
      "[ 1 11  3]\n",
      "[1 2 3]\n"
     ]
    },
    {
     "data": {
      "text/plain": [
       "False"
      ]
     },
     "execution_count": 25,
     "metadata": {},
     "output_type": "execute_result"
    }
   ],
   "source": [
    "#%%  deep copy   and  关联\n",
    "a = np.array([1,2,3])\n",
    "c = a.copy()\n",
    "b = a \n",
    "a[1] = 11 \n",
    "print(a)\n",
    "print(b)\n",
    "print(c)\n",
    "a is b\n",
    "b is a \n",
    "c is a"
   ]
  },
  {
   "cell_type": "markdown",
   "metadata": {},
   "source": [
    "#  [Pandas] - dataframe"
   ]
  },
  {
   "cell_type": "code",
   "execution_count": 26,
   "metadata": {},
   "outputs": [
    {
     "name": "stdout",
     "output_type": "stream",
     "text": [
      "0        1\n",
      "1        2\n",
      "2    third\n",
      "3      NaN\n",
      "4     five\n",
      "dtype: object\n"
     ]
    }
   ],
   "source": [
    "import pandas as pd\n",
    "s = pd.Series([1,2,'third',np.nan,'five'])\n",
    "print(s)"
   ]
  },
  {
   "cell_type": "markdown",
   "metadata": {},
   "source": [
    "### 创建"
   ]
  },
  {
   "cell_type": "code",
   "execution_count": 27,
   "metadata": {},
   "outputs": [
    {
     "name": "stdout",
     "output_type": "stream",
     "text": [
      "DatetimeIndex(['2019-05-08', '2019-05-09', '2019-05-10', '2019-05-11',\n",
      "               '2019-05-12', '2019-05-13'],\n",
      "              dtype='datetime64[ns]', freq='D')\n",
      "             a   b   c   d\n",
      "2019-05-08   0   1   2   3\n",
      "2019-05-09   4   5   6   7\n",
      "2019-05-10   8   9  10  11\n",
      "2019-05-11  12  13  14  15\n",
      "2019-05-12  16  17  18  19\n",
      "2019-05-13  20  21  22  23\n"
     ]
    }
   ],
   "source": [
    "\n",
    "dates = pd.date_range('20190508',periods=6)\n",
    "print(dates)\n",
    "df = pd.DataFrame(np.arange(24).reshape((6,4)),index=dates,columns \\\n",
    "    = ['a','b','c','d'])\n",
    "print(df)\n"
   ]
  },
  {
   "cell_type": "markdown",
   "metadata": {},
   "source": [
    "#### 像这样创建是回报错的，因为创建`pd.DataFrame()` 必须传入`list`\n",
    "```python\n",
    "df1 = pd.DataFrame({\n",
    "        'kobe':24,\n",
    "        'adele':'3'})\n",
    "print(df1)\n",
    "```\n"
   ]
  },
  {
   "cell_type": "code",
   "execution_count": 30,
   "metadata": {},
   "outputs": [
    {
     "name": "stdout",
     "output_type": "stream",
     "text": [
      "{'kobe': [23], 'xiao': [12], 'cjen': [2]}\n",
      "   kobe  xiao  cjen\n",
      "0    23    12     2\n"
     ]
    },
    {
     "data": {
      "text/plain": [
       "<bound method NDFrame.describe of    kobe  xiao  cjen\n",
       "0    23    12     2>"
      ]
     },
     "execution_count": 30,
     "metadata": {},
     "output_type": "execute_result"
    }
   ],
   "source": [
    "#%%  \n",
    "d = {\"kobe\":[23],\"xiao\":[12],\"cjen\":[2]}\n",
    "print(d)\n",
    "df1 = pd.DataFrame(d)\n",
    "print(df1)\n",
    "df1.dtypes\n",
    "df1.index\n",
    "df1.columns\n",
    "df1.values\n",
    "df1.describe"
   ]
  },
  {
   "cell_type": "markdown",
   "metadata": {},
   "source": [
    "## pd.datafranme 的索引"
   ]
  },
  {
   "cell_type": "code",
   "execution_count": 32,
   "metadata": {},
   "outputs": [
    {
     "name": "stdout",
     "output_type": "stream",
     "text": [
      "             A   B   C\n",
      "2019-05-06   0   1   2\n",
      "2019-05-07   3   4   5\n",
      "2019-05-08   6   7   8\n",
      "2019-05-09   9  10  11\n",
      "2019-05-10  12  13  14\n",
      "2019-05-11  15  16  17\n",
      "2019-05-12  18  19  20\n",
      "2019-05-13  21  22  23\n",
      "2019-05-14  24  25  26\n"
     ]
    },
    {
     "data": {
      "text/plain": [
       "11"
      ]
     },
     "execution_count": 32,
     "metadata": {},
     "output_type": "execute_result"
    }
   ],
   "source": [
    "date = pd.date_range('20190506',periods=9)\n",
    "df = pd.DataFrame(np.arange(27).reshape((9,3)),index = date,columns = ['A','B','C'])\n",
    "print(df)\n",
    "\n",
    "df.loc['20190508','C']\n",
    "df.iloc[3,2]"
   ]
  },
  {
   "cell_type": "markdown",
   "metadata": {},
   "source": [
    "## 对 nan 的处理"
   ]
  },
  {
   "cell_type": "code",
   "execution_count": 33,
   "metadata": {},
   "outputs": [
    {
     "name": "stdout",
     "output_type": "stream",
     "text": [
      "             A   B   C   D\n",
      "2019-05-06   0   1   2 NaN\n",
      "2019-05-07   3   4   5 NaN\n",
      "2019-05-08   6   7   8 NaN\n",
      "2019-05-09   9  10  11 NaN\n",
      "2019-05-10  12  13  14 NaN\n",
      "2019-05-11  15  16  17 NaN\n",
      "2019-05-12  18  19  20 NaN\n",
      "2019-05-13  21  22  23 NaN\n",
      "2019-05-14  24  25  26 NaN\n",
      "             A   B   C\n",
      "2019-05-06   0   1   2\n",
      "2019-05-07   3   4   5\n",
      "2019-05-08   6   7   8\n",
      "2019-05-09   9  10  11\n",
      "2019-05-10  12  13  14\n",
      "2019-05-11  15  16  17\n",
      "2019-05-12  18  19  20\n",
      "2019-05-13  21  22  23\n",
      "2019-05-14  24  25  26\n",
      "             A   B   C\n",
      "2019-05-06   0   1   2\n",
      "2019-05-07   3   4   5\n",
      "2019-05-08   6   7   8\n",
      "2019-05-09   9  10  11\n",
      "2019-05-10  12  13  14\n",
      "2019-05-11  15  16  17\n",
      "2019-05-12  18  19  20\n",
      "2019-05-13  21  22  23\n",
      "2019-05-14  24  25  26\n",
      "             A   B   C    D\n",
      "2019-05-06   0   1   2  0.5\n",
      "2019-05-07   3   4   5  0.5\n",
      "2019-05-08   6   7   8  0.5\n",
      "2019-05-09   9  10  11  0.5\n",
      "2019-05-10  12  13  14  0.5\n",
      "2019-05-11  15  16  17  0.5\n",
      "2019-05-12  18  19  20  0.5\n",
      "2019-05-13  21  22  23  0.5\n",
      "2019-05-14  24  25  26  0.5\n",
      "True\n"
     ]
    }
   ],
   "source": [
    "df['D']=np.nan\n",
    "\n",
    "#%%\n",
    "print(df)\n",
    "print(df.dropna(axis=1,how='any'))\n",
    "df1 = df.dropna(axis=1,how='all')\n",
    "df1 is df\n",
    "print(df1)\n",
    "print(df.fillna(value = 0.5))\n",
    "#%% \n",
    "print(np.any(df.isnull()) == True)"
   ]
  },
  {
   "cell_type": "markdown",
   "metadata": {},
   "source": [
    "\n",
    "### pandas read_csv read_excel read_sql\n",
    "### pandas  to_csv  to_excel "
   ]
  },
  {
   "cell_type": "code",
   "execution_count": 34,
   "metadata": {},
   "outputs": [
    {
     "name": "stdout",
     "output_type": "stream",
     "text": [
      "   Supplier Name Invoice Number  Part Number     Cost Purchase Date\n",
      "0     Supplier X       001-1001         2341  $500.00       1/20/14\n",
      "1     Supplier X       001-1001         2341  $500.00       1/20/14\n",
      "2     Supplier X       001-1001         5467  $750.00       1/20/14\n",
      "3     Supplier X       001-1001         5467  $750.00       1/20/14\n",
      "4     Supplier Y        50-9501         7009  $250.00       1/30/14\n",
      "5     Supplier Y        50-9501         7009  $250.00       1/30/14\n",
      "6     Supplier Y        50-9505         6650  $125.00        2/3/14\n",
      "7     Supplier Y        50-9505         6650  $125.00        2/3/14\n",
      "8     Supplier Z       920-4803         3321  $615.00        2/3/14\n",
      "9     Supplier Z       920-4804         3321  $615.00       2/10/14\n",
      "10    Supplier Z       920-4805         3321  $615.00       2/17/14\n",
      "11    Supplier Z       920-4806         3321  $615.00       2/24/14\n"
     ]
    }
   ],
   "source": [
    "data = pd.read_csv('supplier_data.csv')\n",
    "print(data)\n",
    "data.to_pickle('sup.pickle')"
   ]
  },
  {
   "cell_type": "code",
   "execution_count": 35,
   "metadata": {},
   "outputs": [
    {
     "name": "stdout",
     "output_type": "stream",
     "text": [
      "            Supplier Name  Invoice Number  Part Number  Cost  Purchase Date\n",
      "2019-05-06              0               1            2     3              4\n",
      "2019-05-07              5               6            7     8              9\n",
      "2019-05-08             10              11           12    13             14\n",
      "2019-05-09             15              16           17    18             19\n",
      "2019-05-10             20              21           22    23             24\n",
      "2019-05-11             25              26           27    28             29\n",
      "2019-05-12             30              31           32    33             34\n",
      "2019-05-13             35              36           37    38             39\n",
      "   Supplier Name Invoice Number  Part Number     Cost Purchase Date\n",
      "0     Supplier X       001-1001         2341  $500.00       1/20/14\n",
      "1     Supplier X       001-1001         2341  $500.00       1/20/14\n",
      "2     Supplier X       001-1001         5467  $750.00       1/20/14\n",
      "3     Supplier X       001-1001         5467  $750.00       1/20/14\n",
      "4     Supplier Y        50-9501         7009  $250.00       1/30/14\n",
      "5     Supplier Y        50-9501         7009  $250.00       1/30/14\n",
      "6     Supplier Y        50-9505         6650  $125.00        2/3/14\n",
      "7     Supplier Y        50-9505         6650  $125.00        2/3/14\n",
      "8     Supplier Z       920-4803         3321  $615.00        2/3/14\n",
      "9     Supplier Z       920-4804         3321  $615.00       2/10/14\n",
      "10    Supplier Z       920-4805         3321  $615.00       2/17/14\n",
      "11    Supplier Z       920-4806         3321  $615.00       2/24/14\n"
     ]
    }
   ],
   "source": [
    "#%% pandas 合并  横向纵向  不同 columns index\n",
    "# concatenating\n",
    "date = pd.date_range('20190506',periods=8)\n",
    "data2 = pd.DataFrame(np.arange(40).reshape((8,5)),index=date,columns = \\\n",
    "    data.columns)\n",
    "print(data2)\n",
    "print(data)"
   ]
  },
  {
   "cell_type": "code",
   "execution_count": 39,
   "metadata": {},
   "outputs": [
    {
     "name": "stdout",
     "output_type": "stream",
     "text": [
      "                    Supplier Name Invoice Number  Part Number     Cost  \\\n",
      "0                      Supplier X       001-1001         2341  $500.00   \n",
      "1                      Supplier X       001-1001         2341  $500.00   \n",
      "2                      Supplier X       001-1001         5467  $750.00   \n",
      "3                      Supplier X       001-1001         5467  $750.00   \n",
      "4                      Supplier Y        50-9501         7009  $250.00   \n",
      "5                      Supplier Y        50-9501         7009  $250.00   \n",
      "6                      Supplier Y        50-9505         6650  $125.00   \n",
      "7                      Supplier Y        50-9505         6650  $125.00   \n",
      "8                      Supplier Z       920-4803         3321  $615.00   \n",
      "9                      Supplier Z       920-4804         3321  $615.00   \n",
      "10                     Supplier Z       920-4805         3321  $615.00   \n",
      "11                     Supplier Z       920-4806         3321  $615.00   \n",
      "2019-05-06 00:00:00             0              1            2        3   \n",
      "2019-05-07 00:00:00             5              6            7        8   \n",
      "2019-05-08 00:00:00            10             11           12       13   \n",
      "2019-05-09 00:00:00            15             16           17       18   \n",
      "2019-05-10 00:00:00            20             21           22       23   \n",
      "2019-05-11 00:00:00            25             26           27       28   \n",
      "2019-05-12 00:00:00            30             31           32       33   \n",
      "2019-05-13 00:00:00            35             36           37       38   \n",
      "\n",
      "                    Purchase Date  \n",
      "0                         1/20/14  \n",
      "1                         1/20/14  \n",
      "2                         1/20/14  \n",
      "3                         1/20/14  \n",
      "4                         1/30/14  \n",
      "5                         1/30/14  \n",
      "6                          2/3/14  \n",
      "7                          2/3/14  \n",
      "8                          2/3/14  \n",
      "9                         2/10/14  \n",
      "10                        2/17/14  \n",
      "11                        2/24/14  \n",
      "2019-05-06 00:00:00             4  \n",
      "2019-05-07 00:00:00             9  \n",
      "2019-05-08 00:00:00            14  \n",
      "2019-05-09 00:00:00            19  \n",
      "2019-05-10 00:00:00            24  \n",
      "2019-05-11 00:00:00            29  \n",
      "2019-05-12 00:00:00            34  \n",
      "2019-05-13 00:00:00            39  \n"
     ]
    }
   ],
   "source": [
    "#%%\n",
    "# 纵向合并\n",
    "data_h = pd.concat([data,data2],axis=0,ignore_index=False)\n",
    "print(data_h)"
   ]
  },
  {
   "cell_type": "code",
   "execution_count": 40,
   "metadata": {},
   "outputs": [
    {
     "name": "stdout",
     "output_type": "stream",
     "text": [
      "                     Supplier Name  Invoice Number  Part Number     Cost  \\\n",
      "0                       Supplier X        001-1001       2341.0  $500.00   \n",
      "1                       Supplier X        001-1001       2341.0  $500.00   \n",
      "2                       Supplier X        001-1001       5467.0  $750.00   \n",
      "3                       Supplier X        001-1001       5467.0  $750.00   \n",
      "4                       Supplier Y         50-9501       7009.0  $250.00   \n",
      "5                       Supplier Y         50-9501       7009.0  $250.00   \n",
      "6                       Supplier Y         50-9505       6650.0  $125.00   \n",
      "7                       Supplier Y         50-9505       6650.0  $125.00   \n",
      "8                       Supplier Z        920-4803       3321.0  $615.00   \n",
      "9                       Supplier Z        920-4804       3321.0  $615.00   \n",
      "10                      Supplier Z        920-4805       3321.0  $615.00   \n",
      "11                      Supplier Z        920-4806       3321.0  $615.00   \n",
      "2019-05-06 00:00:00            NaN             NaN          NaN      NaN   \n",
      "2019-05-07 00:00:00            NaN             NaN          NaN      NaN   \n",
      "2019-05-08 00:00:00            NaN             NaN          NaN      NaN   \n",
      "2019-05-09 00:00:00            NaN             NaN          NaN      NaN   \n",
      "2019-05-10 00:00:00            NaN             NaN          NaN      NaN   \n",
      "2019-05-11 00:00:00            NaN             NaN          NaN      NaN   \n",
      "2019-05-12 00:00:00            NaN             NaN          NaN      NaN   \n",
      "2019-05-13 00:00:00            NaN             NaN          NaN      NaN   \n",
      "\n",
      "                     Purchase Date  Supplier Name  Invoice Number  \\\n",
      "0                          1/20/14            NaN             NaN   \n",
      "1                          1/20/14            NaN             NaN   \n",
      "2                          1/20/14            NaN             NaN   \n",
      "3                          1/20/14            NaN             NaN   \n",
      "4                          1/30/14            NaN             NaN   \n",
      "5                          1/30/14            NaN             NaN   \n",
      "6                           2/3/14            NaN             NaN   \n",
      "7                           2/3/14            NaN             NaN   \n",
      "8                           2/3/14            NaN             NaN   \n",
      "9                          2/10/14            NaN             NaN   \n",
      "10                         2/17/14            NaN             NaN   \n",
      "11                         2/24/14            NaN             NaN   \n",
      "2019-05-06 00:00:00            NaN            0.0             1.0   \n",
      "2019-05-07 00:00:00            NaN            5.0             6.0   \n",
      "2019-05-08 00:00:00            NaN           10.0            11.0   \n",
      "2019-05-09 00:00:00            NaN           15.0            16.0   \n",
      "2019-05-10 00:00:00            NaN           20.0            21.0   \n",
      "2019-05-11 00:00:00            NaN           25.0            26.0   \n",
      "2019-05-12 00:00:00            NaN           30.0            31.0   \n",
      "2019-05-13 00:00:00            NaN           35.0            36.0   \n",
      "\n",
      "                     Part Number  Cost  Purchase Date  \n",
      "0                            NaN   NaN            NaN  \n",
      "1                            NaN   NaN            NaN  \n",
      "2                            NaN   NaN            NaN  \n",
      "3                            NaN   NaN            NaN  \n",
      "4                            NaN   NaN            NaN  \n",
      "5                            NaN   NaN            NaN  \n",
      "6                            NaN   NaN            NaN  \n",
      "7                            NaN   NaN            NaN  \n",
      "8                            NaN   NaN            NaN  \n",
      "9                            NaN   NaN            NaN  \n",
      "10                           NaN   NaN            NaN  \n",
      "11                           NaN   NaN            NaN  \n",
      "2019-05-06 00:00:00          2.0   3.0            4.0  \n",
      "2019-05-07 00:00:00          7.0   8.0            9.0  \n",
      "2019-05-08 00:00:00         12.0  13.0           14.0  \n",
      "2019-05-09 00:00:00         17.0  18.0           19.0  \n",
      "2019-05-10 00:00:00         22.0  23.0           24.0  \n",
      "2019-05-11 00:00:00         27.0  28.0           29.0  \n",
      "2019-05-12 00:00:00         32.0  33.0           34.0  \n",
      "2019-05-13 00:00:00         37.0  38.0           39.0  \n",
      "    Supplier Name  Invoice Number  Part Number     Cost  Purchase Date  \\\n",
      "0      Supplier X        001-1001         2341  $500.00        1/20/14   \n",
      "1      Supplier X        001-1001         2341  $500.00        1/20/14   \n",
      "2      Supplier X        001-1001         5467  $750.00        1/20/14   \n",
      "3      Supplier X        001-1001         5467  $750.00        1/20/14   \n",
      "4      Supplier Y         50-9501         7009  $250.00        1/30/14   \n",
      "5      Supplier Y         50-9501         7009  $250.00        1/30/14   \n",
      "6      Supplier Y         50-9505         6650  $125.00         2/3/14   \n",
      "7      Supplier Y         50-9505         6650  $125.00         2/3/14   \n",
      "8      Supplier Z        920-4803         3321  $615.00         2/3/14   \n",
      "9      Supplier Z        920-4804         3321  $615.00        2/10/14   \n",
      "10     Supplier Z        920-4805         3321  $615.00        2/17/14   \n",
      "11     Supplier Z        920-4806         3321  $615.00        2/24/14   \n",
      "\n",
      "    Supplier Name  Invoice Number  Part Number  Cost  Purchase Date  \n",
      "0             NaN             NaN          NaN   NaN            NaN  \n",
      "1             NaN             NaN          NaN   NaN            NaN  \n",
      "2             NaN             NaN          NaN   NaN            NaN  \n",
      "3             NaN             NaN          NaN   NaN            NaN  \n",
      "4             NaN             NaN          NaN   NaN            NaN  \n",
      "5             NaN             NaN          NaN   NaN            NaN  \n",
      "6             NaN             NaN          NaN   NaN            NaN  \n",
      "7             NaN             NaN          NaN   NaN            NaN  \n",
      "8             NaN             NaN          NaN   NaN            NaN  \n",
      "9             NaN             NaN          NaN   NaN            NaN  \n",
      "10            NaN             NaN          NaN   NaN            NaN  \n",
      "11            NaN             NaN          NaN   NaN            NaN  \n"
     ]
    }
   ],
   "source": [
    "#%%\n",
    "# 横向合并\n",
    "date_p = pd.concat([data,data2],axis=1)\n",
    "print(date_p)\n",
    "#%%\n",
    "date_p = pd.concat([data,data2],axis=1,join_axes=[data.index])\n",
    "print(date_p)"
   ]
  },
  {
   "cell_type": "code",
   "execution_count": 37,
   "metadata": {},
   "outputs": [
    {
     "name": "stdout",
     "output_type": "stream",
     "text": [
      "   Supplier Name Invoice Number  Part Number     Cost Purchase Date\n",
      "0     Supplier X       001-1001         2341  $500.00       1/20/14\n",
      "1     Supplier X       001-1001         2341  $500.00       1/20/14\n",
      "2     Supplier X       001-1001         5467  $750.00       1/20/14\n",
      "3     Supplier X       001-1001         5467  $750.00       1/20/14\n",
      "4     Supplier Y        50-9501         7009  $250.00       1/30/14\n",
      "5     Supplier Y        50-9501         7009  $250.00       1/30/14\n",
      "6     Supplier Y        50-9505         6650  $125.00        2/3/14\n",
      "7     Supplier Y        50-9505         6650  $125.00        2/3/14\n",
      "8     Supplier Z       920-4803         3321  $615.00        2/3/14\n",
      "9     Supplier Z       920-4804         3321  $615.00       2/10/14\n",
      "10    Supplier Z       920-4805         3321  $615.00       2/17/14\n",
      "11    Supplier Z       920-4806         3321  $615.00       2/24/14\n",
      "12             0              1            2        3             4\n",
      "13             5              6            7        8             9\n",
      "14            10             11           12       13            14\n",
      "15            15             16           17       18            19\n",
      "16            20             21           22       23            24\n",
      "17            25             26           27       28            29\n",
      "18            30             31           32       33            34\n",
      "19            35             36           37       38            39\n"
     ]
    }
   ],
   "source": [
    "#%%\n",
    "date_app = data.append(data2,ignore_index = True)\n",
    "\n",
    "print(date_app)\n",
    "#%%"
   ]
  },
  {
   "cell_type": "code",
   "execution_count": 38,
   "metadata": {},
   "outputs": [
    {
     "name": "stdout",
     "output_type": "stream",
     "text": [
      "Supplier Name     0\n",
      "Invoice Number    1\n",
      "Part Number       2\n",
      "Cost              3\n",
      "Purchase Date     4\n",
      "dtype: int64\n",
      "   Supplier Name Invoice Number  Part Number     Cost Purchase Date\n",
      "0     Supplier X       001-1001         2341  $500.00       1/20/14\n",
      "1     Supplier X       001-1001         2341  $500.00       1/20/14\n",
      "2     Supplier X       001-1001         5467  $750.00       1/20/14\n",
      "3     Supplier X       001-1001         5467  $750.00       1/20/14\n",
      "4     Supplier Y        50-9501         7009  $250.00       1/30/14\n",
      "5     Supplier Y        50-9501         7009  $250.00       1/30/14\n",
      "6     Supplier Y        50-9505         6650  $125.00        2/3/14\n",
      "7     Supplier Y        50-9505         6650  $125.00        2/3/14\n",
      "8     Supplier Z       920-4803         3321  $615.00        2/3/14\n",
      "9     Supplier Z       920-4804         3321  $615.00       2/10/14\n",
      "10    Supplier Z       920-4805         3321  $615.00       2/17/14\n",
      "11    Supplier Z       920-4806         3321  $615.00       2/24/14\n",
      "12             0              1            2        3             4\n",
      "13             5              6            7        8             9\n",
      "14            10             11           12       13            14\n",
      "15            15             16           17       18            19\n",
      "16            20             21           22       23            24\n",
      "17            25             26           27       28            29\n",
      "18            30             31           32       33            34\n",
      "19            35             36           37       38            39\n",
      "20             0              1            2        3             4\n",
      "['A', 'B', 'C', 'D']\n"
     ]
    }
   ],
   "source": [
    "s1 = pd.Series(np.arange(5),index = data2.columns)\n",
    "print(s1)\n",
    "date_app = date_app.append(s1,ignore_index = True)\n",
    "print(date_app)\n",
    "\n",
    "# merge\n",
    "# 更强大的按照columns 合并的函数\n",
    "# #pd.merge(left,right,on = ['key'],how = 'outer')\n",
    "# how = ['left','right','inner','outer']  indicater = True\n",
    "\n",
    "#%%"
   ]
  },
  {
   "cell_type": "code",
   "execution_count": null,
   "metadata": {},
   "outputs": [],
   "source": []
  }
 ],
 "metadata": {
  "kernelspec": {
   "display_name": "Python 3",
   "language": "python",
   "name": "python3"
  },
  "language_info": {
   "codemirror_mode": {
    "name": "ipython",
    "version": 3
   },
   "file_extension": ".py",
   "mimetype": "text/x-python",
   "name": "python",
   "nbconvert_exporter": "python",
   "pygments_lexer": "ipython3",
   "version": "3.7.3"
  }
 },
 "nbformat": 4,
 "nbformat_minor": 2
}
